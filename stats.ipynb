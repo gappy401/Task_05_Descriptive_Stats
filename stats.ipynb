{
 "cells": [
  {
   "cell_type": "code",
   "execution_count": 5,
   "id": "acb931ff",
   "metadata": {},
   "outputs": [
    {
     "name": "stdout",
     "output_type": "stream",
     "text": [
      "Requirement already satisfied: matplotlib in ./.venv/lib/python3.12/site-packages (3.10.5)\n",
      "Requirement already satisfied: contourpy>=1.0.1 in ./.venv/lib/python3.12/site-packages (from matplotlib) (1.3.3)\n",
      "Requirement already satisfied: cycler>=0.10 in ./.venv/lib/python3.12/site-packages (from matplotlib) (0.12.1)\n",
      "Requirement already satisfied: fonttools>=4.22.0 in ./.venv/lib/python3.12/site-packages (from matplotlib) (4.59.0)\n",
      "Requirement already satisfied: kiwisolver>=1.3.1 in ./.venv/lib/python3.12/site-packages (from matplotlib) (1.4.8)\n",
      "Requirement already satisfied: numpy>=1.23 in ./.venv/lib/python3.12/site-packages (from matplotlib) (2.3.2)\n",
      "Requirement already satisfied: packaging>=20.0 in ./.venv/lib/python3.12/site-packages (from matplotlib) (25.0)\n",
      "Requirement already satisfied: pillow>=8 in ./.venv/lib/python3.12/site-packages (from matplotlib) (11.3.0)\n",
      "Requirement already satisfied: pyparsing>=2.3.1 in ./.venv/lib/python3.12/site-packages (from matplotlib) (3.2.3)\n",
      "Requirement already satisfied: python-dateutil>=2.7 in ./.venv/lib/python3.12/site-packages (from matplotlib) (2.9.0.post0)\n",
      "Requirement already satisfied: six>=1.5 in ./.venv/lib/python3.12/site-packages (from python-dateutil>=2.7->matplotlib) (1.17.0)\n",
      "Note: you may need to restart the kernel to use updated packages.\n",
      "Requirement already satisfied: seaborn in ./.venv/lib/python3.12/site-packages (0.13.2)\n",
      "Requirement already satisfied: numpy!=1.24.0,>=1.20 in ./.venv/lib/python3.12/site-packages (from seaborn) (2.3.2)\n",
      "Requirement already satisfied: pandas>=1.2 in ./.venv/lib/python3.12/site-packages (from seaborn) (2.3.1)\n",
      "Requirement already satisfied: matplotlib!=3.6.1,>=3.4 in ./.venv/lib/python3.12/site-packages (from seaborn) (3.10.5)\n",
      "Requirement already satisfied: contourpy>=1.0.1 in ./.venv/lib/python3.12/site-packages (from matplotlib!=3.6.1,>=3.4->seaborn) (1.3.3)\n",
      "Requirement already satisfied: cycler>=0.10 in ./.venv/lib/python3.12/site-packages (from matplotlib!=3.6.1,>=3.4->seaborn) (0.12.1)\n",
      "Requirement already satisfied: fonttools>=4.22.0 in ./.venv/lib/python3.12/site-packages (from matplotlib!=3.6.1,>=3.4->seaborn) (4.59.0)\n",
      "Requirement already satisfied: kiwisolver>=1.3.1 in ./.venv/lib/python3.12/site-packages (from matplotlib!=3.6.1,>=3.4->seaborn) (1.4.8)\n",
      "Requirement already satisfied: packaging>=20.0 in ./.venv/lib/python3.12/site-packages (from matplotlib!=3.6.1,>=3.4->seaborn) (25.0)\n",
      "Requirement already satisfied: pillow>=8 in ./.venv/lib/python3.12/site-packages (from matplotlib!=3.6.1,>=3.4->seaborn) (11.3.0)\n",
      "Requirement already satisfied: pyparsing>=2.3.1 in ./.venv/lib/python3.12/site-packages (from matplotlib!=3.6.1,>=3.4->seaborn) (3.2.3)\n",
      "Requirement already satisfied: python-dateutil>=2.7 in ./.venv/lib/python3.12/site-packages (from matplotlib!=3.6.1,>=3.4->seaborn) (2.9.0.post0)\n",
      "Requirement already satisfied: pytz>=2020.1 in ./.venv/lib/python3.12/site-packages (from pandas>=1.2->seaborn) (2025.2)\n",
      "Requirement already satisfied: tzdata>=2022.7 in ./.venv/lib/python3.12/site-packages (from pandas>=1.2->seaborn) (2025.2)\n",
      "Requirement already satisfied: six>=1.5 in ./.venv/lib/python3.12/site-packages (from python-dateutil>=2.7->matplotlib!=3.6.1,>=3.4->seaborn) (1.17.0)\n",
      "Note: you may need to restart the kernel to use updated packages.\n"
     ]
    }
   ],
   "source": [
    "%pip install matplotlib\n",
    "%pip install seaborn"
   ]
  },
  {
   "cell_type": "code",
   "execution_count": 14,
   "id": "88569db6",
   "metadata": {},
   "outputs": [
    {
     "name": "stdout",
     "output_type": "stream",
     "text": [
      "   No.              Player  GP-GS   G   A  PTS  SH  SH_pct  SOG  SOG_pct  GWP  \\\n",
      "0   44          Ward, Emma  19-19  30  46   76  77   0.390   55    0.714    1   \n",
      "1   24  Trinkaus, Caroline  19-18  32  11   43  72   0.444   57    0.792    4   \n",
      "2    5      Muchnick, Emma  19-18  34   7   41  71   0.479   55    0.775    2   \n",
      "3   19     Britton, Gracie  19-14  20  10   30  41   0.488   33    0.805    0   \n",
      "4   11     Vogelman, Alexa  19-10  21   6   27  46   0.457   35    0.761    0   \n",
      "\n",
      "   FPG  FPS  GB  TO  CT  DC  FOULS RC-YC-SC  \n",
      "0    3    9   6  41   2   0      9    0-1-0  \n",
      "1    9   11   6  16   5   8      6    0-3-7  \n",
      "2   12   24  27  31   9  13      8    0-1-1  \n",
      "3    3    7   8  16   0   1      2    0-0-1  \n",
      "4    9   14  25  27  13  31     26    0-3-0  \n"
     ]
    }
   ],
   "source": [
    "import pandas as pd\n",
    "from io import StringIO\n",
    "import matplotlib.pyplot as plt\n",
    "\n",
    "data = \"\"\"\n",
    "No.\tPlayer\tGP-GS\tG\tA\tPTS\tSH\tSH_pct\tSOG\tSOG_pct\tGWP\tFPG\tFPS\tGB\tTO\tCT\tDC\tFOULS\tRC-YC-SC\n",
    "44\tWard, Emma\t19-19\t30\t46\t76\t77\t0.39\t55\t0.714\t1\t3\t9\t6\t41\t2\t0\t9\t0-1-0\n",
    "24\tTrinkaus, Caroline\t19-18\t32\t11\t43\t72\t0.444\t57\t0.792\t4\t9\t11\t6\t16\t5\t8\t6\t0-3-7\n",
    "5\tMuchnick, Emma\t19-18\t34\t7\t41\t71\t0.479\t55\t0.775\t2\t12\t24\t27\t31\t9\t13\t8\t0-1-1\n",
    "19\tBritton, Gracie\t19-14\t20\t10\t30\t41\t0.488\t33\t0.805\t0\t3\t7\t8\t16\t0\t1\t2\t0-0-1\n",
    "11\tVogelman, Alexa\t19-10\t21\t6\t27\t46\t0.457\t35\t0.761\t0\t9\t14\t25\t27\t13\t31\t26\t0-3-0\n",
    "47\tCotter, Mileena\t19-13\t21\t2\t23\t50\t0.42\t38\t0.76\t1\t4\t10\t11\t26\t10\t24\t29\t0-0-5\n",
    "33\tCaramelli, Joely\t19-13\t16\t4\t20\t46\t0.348\t29\t0.63\t0\t0\t5\t23\t8\t11\t39\t30\t0-2-4\n",
    "22\tGuzik, Molly\t19-0\t14\t5\t19\t34\t0.412\t23\t0.676\t0\t0\t0\t15\t14\t8\t13\t15\t0-2-1\n",
    "1\tAdamson, Olivia\t3-Mar\t10\t6\t16\t18\t0.556\t13\t0.722\t1\t1\t1\t2\t7\t1\t5\t1\t0-0-1\n",
    "21\tVolpe, Ashlee\t8-Dec\t14\t2\t16\t31\t0.452\t22\t0.71\t0\t2\t4\t5\t10\t1\t0\t2\t0-1-2\n",
    "18\tDesimone, Carlie\t15-5\t3\t9\t12\t12\t0.25\t9\t0.75\t0\t0\t1\t8\t7\t2\t0\t4\t0-0-1\n",
    "72\tDeVito, Sam\t19-13\t8\t2\t10\t12\t0.667\t11\t0.917\t0\t1\t2\t22\t11\t13\t11\t14\t0-0-4\n",
    "12\tParker, Annie\t15-0\t6\t1\t7\t13\t0.462\t9\t0.692\t1\t0\t1\t1\t4\t0\t1\t0\t0-0-3\n",
    "2\tPeters, Bri\tMar-00\t2\t1\t3\t3\t0.667\t3\t1\t0\t0\t1\t1\t1\t0\t0\t0\t0-1-3\n",
    "6\tRowley, Payton\tJun-00\t1\t0\t1\t3\t0.333\t2\t0.667\t0\t0\t0\t0\t2\t0\t0\t0\t0-0-0\n",
    "20\tRich, Mackenzie\tMay-00\t1\t0\t1\t1\t1\t1\t1\t0\t0\t0\t1\t0\t0\t0\t2\t0-0-0\n",
    "28\tRode, Meghan\t17-9\t1\t0\t1\t3\t0.333\t2\t0.667\t0\t0\t0\t1\t4\t0\t75\t17\t0-0-1\n",
    "0\tGuyette, Daniella\t19-19\t0\t0\t0\t0\t0\t0\t0\t0\t0\t0\t28\t8\t2\t0\t0\t0-0-0\n",
    "4\tBenoit, Kaci\t19-19\t0\t0\t0\t2\t0\t1\t0.5\t0\t0\t0\t34\t5\t12\t13\t51\t0-1-3\n",
    "7\tHorvit, Ana\t3-Dec\t0\t0\t0\t0\t0\t0\t0\t0\t0\t0\t6\t2\t2\t0\t15\t0-0-1\n",
    "8\tReber, Lexi\t8-Aug\t0\t0\t0\t1\t0\t1\t1\t0\t0\t0\t5\t2\t1\t1\t16\t0-2-0\n",
    "9\tBasciano, Julia\t2-Feb\t0\t0\t0\t0\t0\t0\t0\t0\t0\t0\t0\t0\t0\t0\t1\t0-1-1\n",
    "15\tBoggs, Kendall\tMay-00\t0\t0\t0\t0\t0\t0\t0\t0\t0\t0\t0\t0\t0\t0\t1\t0-1-0\n",
    "16\tVandiver, Coco\t19-18\t0\t0\t0\t0\t0\t0\t0\t0\t0\t0\t34\t3\t40\t1\t51\t0-1-0\n",
    "17\tOlsen, McKenzie\tFeb-00\t0\t0\t0\t0\t0\t0\t0\t0\t0\t0\t0\t0\t0\t0\t0\t0-0-0\n",
    "25\tBlesi, Ella\t1-May\t0\t0\t0\t0\t0\t0\t0\t0\t0\t0\t2\t2\t0\t0\t3\t0-1-0\n",
    "27\tLahah, Izzy\t2-Jun\t0\t0\t0\t2\t0\t2\t1\t0\t0\t0\t7\t1\t8\t1\t9\t0-1-1\n",
    "30\tClark, Superia\t16-13\t0\t0\t0\t0\t0\t0\t0\t0\t0\t0\t14\t7\t13\t2\t46\t0-1-0\n",
    "34\tBethea-Jones, Chloe\tApr-00\t0\t0\t0\t0\t0\t0\t0\t0\t0\t0\t1\t0\t0\t0\t0\t0-0-0\n",
    "35\tNash, Alice\tJan-00\t0\t0\t0\t0\t0\t0\t0\t0\t0\t0\t0\t0\t0\t0\t0\t0-0-0\n",
    "45\tPeers, Ava\tJan-00\t0\t0\t0\t0\t0\t0\t0\t0\t0\t0\t0\t0\t0\t0\t0\t0-0-0\n",
    "88\tHanlon, Allie\tMar-00\t0\t0\t0\t0\t0\t0\t0\t0\t0\t0\t1\t0\t0\t0\t0\t0-0-0\n",
    "\n",
    "\n",
    "\"\"\"\n",
    "\n",
    "df = pd.read_csv(StringIO(data), sep=\"\\t\")\n",
    "print(df.head())"
   ]
  },
  {
   "cell_type": "code",
   "execution_count": 7,
   "id": "637f1550",
   "metadata": {},
   "outputs": [],
   "source": [
    "\n",
    "\n",
    "# Clean column names\n",
    "df.columns = df.columns.str.strip().str.replace(\" \", \"_\").str.replace(\"-\", \"_\")\n",
    "\n",
    "# Drop summary rows\n",
    "df = df[~df['Player'].isin(['Total', 'Opponents'])]\n",
    "\n",
    "# Convert numeric columns\n",
    "numeric_cols = ['G', 'A', 'PTS', 'SH', 'SH_pct', 'SOG', 'SOG_pct', 'GB', 'TO', 'CT', 'DC']\n",
    "df[numeric_cols] = df[numeric_cols].apply(pd.to_numeric, errors='coerce')\n",
    "\n",
    "# Extract GP from GP_GS\n",
    "df['GP'] = df['GP_GS'].str.extract(r'(\\d+)').astype(float)"
   ]
  },
  {
   "cell_type": "code",
   "execution_count": 8,
   "metadata": {},
   "outputs": [
    {
     "name": "stdout",
     "output_type": "stream",
     "text": [
      "Top 10 Players by Goals:\n",
      "               Player   G\n",
      "2      Muchnick, Emma  34\n",
      "1  Trinkaus, Caroline  32\n",
      "0          Ward, Emma  30\n",
      "4     Vogelman, Alexa  21\n",
      "5     Cotter, Mileena  21\n",
      "3     Britton, Gracie  20\n",
      "6    Caramelli, Joely  16\n",
      "7        Guzik, Molly  14\n",
      "9       Volpe, Ashlee  14\n",
      "8     Adamson, Olivia  10\n"
     ]
    }
   ],
   "source": [
    "# Top 10 Players by Goals\n",
    "top_goals = df.sort_values(by='G', ascending=False).head(10)\n",
    "print(\"Top 10 Players by Goals:\")\n",
    "print(top_goals[['Player', 'G']])\n",
    "\n",
    "\n"
   ]
  },
  {
   "cell_type": "code",
   "execution_count": 9,
   "id": "8069a2fc",
   "metadata": {},
   "outputs": [
    {
     "name": "stdout",
     "output_type": "stream",
     "text": [
      "\n",
      "Top 10 Players by Assists:\n",
      "                Player   A\n",
      "0           Ward, Emma  46\n",
      "1   Trinkaus, Caroline  11\n",
      "3      Britton, Gracie  10\n",
      "10    Desimone, Carlie   9\n",
      "2       Muchnick, Emma   7\n",
      "4      Vogelman, Alexa   6\n",
      "8      Adamson, Olivia   6\n",
      "7         Guzik, Molly   5\n",
      "6     Caramelli, Joely   4\n",
      "5      Cotter, Mileena   2\n"
     ]
    }
   ],
   "source": [
    "# Top 10 Players by Assists\n",
    "top_assists = df.sort_values(by='A', ascending=False).head(10)\n",
    "print(\"\\nTop 10 Players by Assists:\")\n",
    "print(top_assists[['Player', 'A']])\n"
   ]
  },
  {
   "cell_type": "code",
   "execution_count": 10,
   "id": "8756c891",
   "metadata": {},
   "outputs": [
    {
     "name": "stdout",
     "output_type": "stream",
     "text": [
      "\n",
      "Top 10 Players by Shot Accuracy:\n",
      "                Player  SH_pct\n",
      "15     Rich, Mackenzie   1.000\n",
      "11         DeVito, Sam   0.667\n",
      "13         Peters, Bri   0.667\n",
      "8      Adamson, Olivia   0.556\n",
      "3      Britton, Gracie   0.488\n",
      "2       Muchnick, Emma   0.479\n",
      "12       Parker, Annie   0.462\n",
      "4      Vogelman, Alexa   0.457\n",
      "9        Volpe, Ashlee   0.452\n",
      "1   Trinkaus, Caroline   0.444\n"
     ]
    }
   ],
   "source": [
    "\n",
    "# Top 10 Players by Shot Accuracy\n",
    "top_accuracy = df[df['SH'] > 0].sort_values(by='SH_pct', ascending=False).head(10)\n",
    "print(\"\\nTop 10 Players by Shot Accuracy:\")\n",
    "print(top_accuracy[['Player', 'SH_pct']])"
   ]
  },
  {
   "cell_type": "code",
   "execution_count": 12,
   "id": "88f81823",
   "metadata": {},
   "outputs": [
    {
     "name": "stdout",
     "output_type": "stream",
     "text": [
      "\n",
      "Top 10 Players by Goals per Game:\n",
      "                Player  Goals_per_Game\n",
      "14      Rowley, Payton             inf\n",
      "13         Peters, Bri             inf\n",
      "15     Rich, Mackenzie             inf\n",
      "8      Adamson, Olivia        3.333333\n",
      "2       Muchnick, Emma        1.789474\n",
      "9        Volpe, Ashlee        1.750000\n",
      "1   Trinkaus, Caroline        1.684211\n",
      "0           Ward, Emma        1.578947\n",
      "5      Cotter, Mileena        1.105263\n",
      "4      Vogelman, Alexa        1.105263\n"
     ]
    }
   ],
   "source": [
    "\n",
    "# Goals per Game\n",
    "df['Goals_per_Game'] = df['G'] / df['GP']\n",
    "top_gpg = df.sort_values(by='Goals_per_Game', ascending=False).head(10)\n",
    "print(\"\\nTop 10 Players by Goals per Game:\")\n",
    "print(top_gpg[['Player', 'Goals_per_Game']])\n"
   ]
  },
  {
   "cell_type": "code",
   "execution_count": 13,
   "id": "3d132623",
   "metadata": {},
   "outputs": [
    {
     "data": {
      "image/png": "[encoded data removed]",
      "text/plain": [
       "<Figure size 800x600 with 1 Axes>"
      ]
     },
     "metadata": {},
     "output_type": "display_data"
    }
   ],
   "source": [
    "\n",
    "\n",
    "\n",
    "# Visualization: Goals vs Assists\n",
    "plt.figure(figsize=(8,6))\n",
    "plt.scatter(df['G'], df['A'], alpha=0.7, color='purple')\n",
    "plt.xlabel(\"Goals\")\n",
    "plt.ylabel(\"Assists\")\n",
    "plt.title(\"Goals vs Assists per Player\")\n",
    "plt.grid(True)\n",
    "plt.show()"
   ]
  }
 ],
 "metadata": {
  "kernelspec": {
   "display_name": ".venv",
   "language": "python",
   "name": "python3"
  },
  "language_info": {
   "codemirror_mode": {
    "name": "ipython",
    "version": 3
   },
   "file_extension": ".py",
   "mimetype": "text/x-python",
   "name": "python",
   "nbconvert_exporter": "python",
   "pygments_lexer": "ipython3",
   "version": "3.12.1"
  }
 },
 "nbformat": 4,
 "nbformat_minor": 5
}
